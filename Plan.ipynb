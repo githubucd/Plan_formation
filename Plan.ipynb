{
 "cells": [
  {
   "cell_type": "markdown",
   "metadata": {},
   "source": [
    "<table width='100%' border='0'>\n",
    "    <tr>\n",
    "        <td><img src='images/ucd.png' width='120'></td>\n",
    "        <td><img src='images/dept_inf.png' width='350'></td>\n",
    "        <td><img src='images/fs.png' width='120'></td>\n",
    "    </tr>\n",
    "</table>    "
   ]
  },
  {
   "cell_type": "markdown",
   "metadata": {},
   "source": [
    "<img src=''>\n",
    "\n",
    "# Initiation au Machine Learning avec Python\n",
    "\n",
    "Email : <a mailto='madani.a@ucd.ac.ma'>madani.a@ucd.ac.ma</a>\n",
    "<img src='images/robot.png'>"
   ]
  },
  {
   "cell_type": "markdown",
   "metadata": {},
   "source": [
    "## Objectif du module"
   ]
  },
  {
   "cell_type": "markdown",
   "metadata": {},
   "source": [
    "Ce module a pour objectif de permettre aux étudiants de s'initier aux concepts de base du Machine Learning avec le langage Python. A la fin de ce module, vous serez en mesure de :\n",
    "<ul>\n",
    "    <li>Maîtriser la programmation Python</li>\n",
    "    <li>Débuter avec les algorithmes du machine learning: KNN, KMeans, SVM, ... </li>\n",
    "    <li>Réaliser des projets portant sur différents types de problématiques</li>\n",
    "        \n",
    "</ul>"
   ]
  },
  {
   "cell_type": "markdown",
   "metadata": {},
   "source": [
    "## Pré-requis"
   ]
  },
  {
   "cell_type": "markdown",
   "metadata": {},
   "source": [
    "Même si cette formation est une initiation au Machine Learning, il faudra quant même avoir quelques connaissances en informatique, surtout : \n",
    "<ul>\n",
    "    <li>Un très bon niveau en algorithmique</li>\n",
    "    <li>Une Maitrise d'un langage de programmation</li>\n",
    "    <li>Etre bon en Mathématiques</li>\n",
    "    <li>Savoir utiliser les dépôts GitHub</li>\n",
    "</ul>"
   ]
  },
  {
   "cell_type": "markdown",
   "metadata": {},
   "source": [
    "## Plan de la formation"
   ]
  },
  {
   "cell_type": "markdown",
   "metadata": {},
   "source": [
    "<ol type=\"A\">\n",
    "<li>Partie I : Langage Python</li>\n",
    "    <ul>\n",
    "        <li>Introduction</li>            \n",
    "        <li>Concepts de base</li>\n",
    "            <ul>\n",
    "                <li>Variable</li>\n",
    "                <li>Entrées/Sorties</li>\n",
    "                <li>Structures de contrôle</li>\n",
    "                <li>Conteneurs standards : Chaines de caractères, listes, ensembles, tuples, dictionnaires et fichiers</li>\n",
    "                <li>Fonctions et procédures</li>\n",
    "                <li>Modules</li>\n",
    "                <li>L'Orienté Objet</li>\n",
    "                <li>Exceptions</li>\n",
    "            </ul>\n",
    "        <li>Exemples de modules les plus utilisés</li>\n",
    "            <ul>\n",
    "                <li>Numpy</li>\n",
    "                <li>Matplotlib</li>\n",
    "                <li>Pandas</li>\n",
    "                <li>OpenCV</li>\n",
    "            </ul>\n",
    "        <li>Travaux à rendre</li>\n",
    "    </ul>\n",
    "<li>Partie II : Initiation au Machine Learning</li>\n",
    "    <ul>\n",
    "                <li>Introduction : Qu'est ce que le Machine Learning</li>\n",
    "                <li>Supervised Learning</li>\n",
    "                    <ul>\n",
    "                        <li>Définition</li>\n",
    "                        <li>Quelques exemples d'algorithmes supervisés\n",
    "                            <ul>\n",
    "                                <li>Régression lineaire pour les problèmes de régression</li>\n",
    "                                <li>Régresion logistique pour les problème de classification</li>\n",
    "                                <li>KNN pour les problèmes de classification</li>\n",
    "                                <li>Arbres de décision pour les problèmes de classification/régression</li>\n",
    "                                <li>SVM pour les problèmes de classification/régression</li>\n",
    "                            </ul>\n",
    "                    </ul>\n",
    "                <li>Unsupervised Learning</li>\n",
    "                    <ul>\n",
    "                        <li>Définition</li>\n",
    "                        <li>Quelques exemples d'algorithmes unsupervisés</li>\n",
    "                            <ul>\n",
    "                                <li>PCA</li>\n",
    "                                <li>KMeans</li>\n",
    "                                <li>Clustering hiérarchique</li>\n",
    "                                <li>Clustering non hiérarchique</li>\n",
    "                            </ul>\n",
    "                    </ul>\n",
    "                <li>Travaux à rendre</li>\n",
    "            </ul>\n",
    "<li>Partie III : Applications avec Scikit-learn (sklearn)</li>   \n",
    "    <ul>\n",
    "        <li>Pré-requis :  Librairies indispensables</li>\n",
    "            <ul>\n",
    "                <li>Calcul avec Numpy et Scipy</li>\n",
    "                <li>Visualisation avec Matplotlib</li>\n",
    "            </ul>    \n",
    "        <li>Installation</li>\n",
    "        <li>Introduction à Scikit-learn</li>\n",
    "            <ul>\n",
    "                <li>Charger et sauvegarder des données</li>\n",
    "                <li>Prétraiter des données</li>\n",
    "                <li>Générer des données</li>\n",
    "                <li>Construire des modèles</li>\n",
    "                <li>Charger et sauvegarder des modèles</li>\n",
    "            </ul>\n",
    "        <li>Applications avec Scikit-learn</li>\n",
    "            <ul>\n",
    "                <li>Exemples d'algorithme supervisés</li>\n",
    "                <li>Exemples d'algorithme non supervisés</li>\n",
    "            </ul>\n",
    "    </ul>\n",
    "<li>Partie III : Projets à rendre</li>\n",
    "    <ul>\n",
    "        <li>Projets sur des données structurées</li>\n",
    "        <li>Projets sur le TextMining</li>\n",
    "        <li>Projets sur les Images</li>\n",
    "        <li>Projets sur les vidéos</li>\n",
    "    </ul>\n",
    "</ol>"
   ]
  }
 ],
 "metadata": {
  "kernelspec": {
   "display_name": "Python 3",
   "language": "python",
   "name": "python3"
  },
  "language_info": {
   "codemirror_mode": {
    "name": "ipython",
    "version": 3
   },
   "file_extension": ".py",
   "mimetype": "text/x-python",
   "name": "python",
   "nbconvert_exporter": "python",
   "pygments_lexer": "ipython3",
   "version": "3.8.3"
  }
 },
 "nbformat": 4,
 "nbformat_minor": 4
}
